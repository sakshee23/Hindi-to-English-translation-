{
  "nbformat": 4,
  "nbformat_minor": 0,
  "metadata": {
    "colab": {
      "provenance": []
    },
    "kernelspec": {
      "name": "python3",
      "display_name": "Python 3"
    },
    "language_info": {
      "name": "python"
    }
  },
  "cells": [
    {
      "cell_type": "markdown",
      "source": [
        "# **Hindi to English translate**"
      ],
      "metadata": {
        "id": "RiMB1djFuStN"
      }
    },
    {
      "cell_type": "code",
      "source": [
        "pip install translate\n"
      ],
      "metadata": {
        "colab": {
          "base_uri": "https://localhost:8080/"
        },
        "id": "0pX6ZTkVpg-A",
        "outputId": "365598ab-d2bf-479a-cc58-29985b3a6fd2"
      },
      "execution_count": 2,
      "outputs": [
        {
          "output_type": "stream",
          "name": "stdout",
          "text": [
            "Collecting translate\n",
            "  Downloading translate-3.6.1-py2.py3-none-any.whl (12 kB)\n",
            "Requirement already satisfied: click in /usr/local/lib/python3.10/dist-packages (from translate) (8.1.7)\n",
            "Requirement already satisfied: lxml in /usr/local/lib/python3.10/dist-packages (from translate) (4.9.4)\n",
            "Requirement already satisfied: requests in /usr/local/lib/python3.10/dist-packages (from translate) (2.31.0)\n",
            "Collecting libretranslatepy==2.1.1 (from translate)\n",
            "  Downloading libretranslatepy-2.1.1-py3-none-any.whl (3.2 kB)\n",
            "Requirement already satisfied: charset-normalizer<4,>=2 in /usr/local/lib/python3.10/dist-packages (from requests->translate) (3.3.2)\n",
            "Requirement already satisfied: idna<4,>=2.5 in /usr/local/lib/python3.10/dist-packages (from requests->translate) (3.7)\n",
            "Requirement already satisfied: urllib3<3,>=1.21.1 in /usr/local/lib/python3.10/dist-packages (from requests->translate) (2.0.7)\n",
            "Requirement already satisfied: certifi>=2017.4.17 in /usr/local/lib/python3.10/dist-packages (from requests->translate) (2024.7.4)\n",
            "Installing collected packages: libretranslatepy, translate\n",
            "Successfully installed libretranslatepy-2.1.1 translate-3.6.1\n"
          ]
        }
      ]
    },
    {
      "cell_type": "code",
      "source": [
        "conversation_hindi = [\n",
        "    \"Recovery Agent (RA): नमस्ते श्री कुमार, मैं एक्स वाई जेड फाइनेंस से बोल रहा हूं। आपके लोन के बारे में बात करनी थी।\",\n",
        "    \"Borrower (B): हां, बोलिए। क्या बात है?\",\n",
        "    \"RA: सर, आपका पिछले महीने का EMI अभी तक नहीं आया है। क्या कोई समस्या है?\",\n",
        "    \"B: हां, थोड़ी दिक्कत है। मेरी नौकरी चली गई है और मैं नया काम ढूंढ रहा हूं।\",\n",
        "    \"RA: ओह, यह तो बुरा हुआ। लेकिन सर, आपको समझना होगा कि लोन का भुगतान समय पर करना बहुत जरूरी है।\",\n",
        "    \"B: मैं समझता हूं, लेकिन अभी मेरे पास पैसे नहीं हैं। क्या कुछ समय मिल सकता है?\",\n",
        "    \"RA: हम समझते हैं आपकी स्थिति। क्या आप अगले हफ्ते तक कुछ भुगतान कर सकते हैं?\",\n",
        "    \"B: मैं कोशिश करूंगा, लेकिन पूरा EMI नहीं दे पाऊंगा। क्या आधा भुगतान चलेगा?\",\n",
        "    \"RA: ठीक है, आधा भुगतान अगले हफ्ते तक कर दीजिए। बाकी का क्या प्लान है आपका?\",\n",
        "    \"B: मुझे उम्मीद है कि अगले महीने तक मुझे नया काम मिल जाएगा। तब मैं बाकी बकाया चुका दूंगा।\",\n",
        "    \"RA: ठीक है। तो हम ऐसा करते हैं - आप अगले हफ्ते तक आधा EMI जमा कर दीजिए, और अगले महीने के 15 तारीख तक बाकी का भुगतान कर दीजिए। क्या यह आपको स्वीकार है?\",\n",
        "    \"B: हां, यह ठीक रहेगा। मैं इस प्लान का पालन करने की पूरी कोशिश करूंगा।\",\n",
        "    \"RA: बहुत अच्छा। मैं आपको एक SMS भेज रहा हूं जिसमें भुगतान की डिटेल्स होंगी। कृपया इसका पालन करें और समय पर भुगतान करें।\",\n",
        "    \"B: ठीक है, धन्यवाद आपके समझने के लिए।\",\n",
        "    \"RA: आपका स्वागत है। अगर कोई और सवाल हो तो मुझे बताइएगा। अलविदा।\",\n",
        "    \"B: अलविदा।\"\n",
        "]"
      ],
      "metadata": {
        "id": "bitzsXVlujjP"
      },
      "execution_count": 11,
      "outputs": []
    },
    {
      "cell_type": "code",
      "source": [
        "translator = Translator(to_lang=\"en\", from_lang=\"hi\")"
      ],
      "metadata": {
        "id": "hpHyKnmEuney"
      },
      "execution_count": 12,
      "outputs": []
    },
    {
      "cell_type": "code",
      "source": [
        "conversation_english = []\n",
        "\n",
        "for line in conversation_hindi:\n",
        "    translation = translator.translate(line)\n",
        "    conversation_english.append(translation)"
      ],
      "metadata": {
        "id": "UuWOCrj8uqHh"
      },
      "execution_count": 13,
      "outputs": []
    },
    {
      "cell_type": "code",
      "source": [
        "for line in conversation_english:\n",
        "    print(line)"
      ],
      "metadata": {
        "colab": {
          "base_uri": "https://localhost:8080/"
        },
        "id": "evGm_s10u3fY",
        "outputId": "9c0ec6b7-0aeb-4255-dbe4-b0f2fae91b81"
      },
      "execution_count": 14,
      "outputs": [
        {
          "output_type": "stream",
          "name": "stdout",
          "text": [
            "Recovery Agent (RA): Hi Mr. Kumar, I am speaking to X Y Z Finance. Had to talk about your loan.\n",
            "Borrower (B): Yes, please. What's the matter?\n",
            "RA: Sir, your last month's EMI has not arrived yet. Is there an issue?\n",
            "B: Yes, there is a problem. I have lost my job and I am looking for a new job.\n",
            "RA: Oh, that sucked. But sir, you have to understand that it is very important to repay the loan on time.\n",
            "B: I understand, but I don't have money right now. Can I get some time?\n",
            "RA: We understand your situation. Can you make some payments by next week?\n",
            "B: I will try, but will not be able to give full EMI. Will half pay go away?\n",
            "RA: Okay, make half the payment by next week. What's your plan for the rest?\n",
            "B: I hope to get a new job by next month. Then I will clear the rest of the dues.\n",
            "RA: Okay. So we do that - you deposit half of the EMI by next week, and pay the rest by the 15th of next month. Do you agree?\n",
            "B: Yes, it will be fine. I will do my best to follow this plan.\n",
            "RA: Great. I'm sending you an SMS with payment details. Please follow this and pay on time.\n",
            "B: Okay, thanks for your understanding.\n",
            "RA: Welcome. Let me know if you have any other questions. Bye.\n",
            "B: Bye.\n"
          ]
        }
      ]
    }
  ]
}